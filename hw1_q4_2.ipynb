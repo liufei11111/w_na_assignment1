{
 "cells": [
  {
   "cell_type": "code",
   "execution_count": 3,
   "metadata": {},
   "outputs": [],
   "source": [
    "import heapq\n",
    "import snap\n",
    "class MyHeap(object):\n",
    "    def __init__(self, initial=None, key=lambda x:-x.GetDeg()):\n",
    "        self.key = key\n",
    "        if initial:\n",
    "            self._data = [(key(item), item) for item in initial]\n",
    "            heapq.heapify(self._data)\n",
    "        else:\n",
    "            self._data = []\n",
    "\n",
    "    def push(self, item):\n",
    "        heapq.heappush(self._data, (self.key(item), item))\n",
    "\n",
    "    def pop(self):\n",
    "        return heapq.heappop(self._data)[1]\n",
    "# global_max = 0\n",
    "global_max_list = [0]\n",
    "def invoke_max_clique_heuristic(Graph, global_max_list):\n",
    "    for NI in Graph.Nodes():\n",
    "        if NI.GetDeg() >= global_max_list[0]:\n",
    "            union = MyHeap()\n",
    "            for Id in NI.GetOutEdges():\n",
    "                node_for_id = Graph.GetNI(Id)\n",
    "                union.push(node_for_id)\n",
    "            max_clique_heuristic(Graph, union, 1, global_max_list)\n",
    "def max_clique_heuristic(Graph, union, size, global_max_list):\n",
    "#     print('1_union._data', len(union._data))\n",
    "    if len(union._data) == 0:\n",
    "        if size > global_max_list[0]:\n",
    "            \n",
    "            global_max_list[0] = size\n",
    "            print('2_global_max_list[0]',global_max_list[0], ' ,size: ', size)\n",
    "        return\n",
    "    max_deg_vertex = union.pop()\n",
    "#     print('3_max_deg_vertex', max_deg_vertex.GetId())\n",
    "    bigger_nodes = set()\n",
    "    all_max_deg_vertex_nbrs = []\n",
    "    for nbr_i in xrange(max_deg_vertex.GetDeg()):\n",
    "        nbr_id = max_deg_vertex.GetNbrNId(nbr_i)\n",
    "        if nbr_id == max_deg_vertex.GetId():\n",
    "            continue\n",
    "        nbr_node_i = Graph.GetNI(nbr_id)\n",
    "#         all_max_deg_vertex_nbrs.append(nbr_node_i)\n",
    "#         print('4_all_max_deg_vertex_nbrs add: ', nbr_node_i.GetId())\n",
    "        if nbr_node_i.GetDeg() >= global_max_list[0]:\n",
    "            bigger_nodes.add(nbr_node_i.GetId())\n",
    "#             print('5_add_bigger_nodes',nbr_node_i.GetId())\n",
    "    bigger_nbrs = filter(lambda x: x[1].GetId() in bigger_nodes,union._data)\n",
    "    bigger_nbrs = map(lambda x: x[1],  bigger_nbrs)\n",
    "#     print('6_bigger_nbrs size', len(bigger_nbrs))\n",
    "    max_clique_heuristic(Graph,MyHeap(bigger_nbrs), size+1, global_max_list)\n"
   ]
  },
  {
   "cell_type": "code",
   "execution_count": 4,
   "metadata": {},
   "outputs": [
    {
     "name": "stdout",
     "output_type": "stream",
     "text": [
      "('2_global_max_list[0]', 3, ' ,size: ', 3)\n",
      "('2_global_max_list[0]', 5, ' ,size: ', 5)\n",
      "5\n",
      "5\n"
     ]
    }
   ],
   "source": [
    "G1 = snap.TUNGraph.New()\n",
    "G1.AddNode(1)\n",
    "G1.AddNode(2)\n",
    "G1.AddNode(3)\n",
    "G1.AddNode(4)\n",
    "G1.AddNode(5)\n",
    "G1.AddNode(6)\n",
    "G1.AddNode(7)\n",
    "G1.AddNode(8)\n",
    "G1.AddNode(9)\n",
    "G1.AddEdge(1,2)\n",
    "G1.AddEdge(1,3)\n",
    "G1.AddEdge(2,3)\n",
    "G1.AddEdge(3,4)\n",
    "G1.AddEdge(4,5)\n",
    "G1.AddEdge(5,6)\n",
    "G1.AddEdge(5,7)\n",
    "G1.AddEdge(5,8)\n",
    "G1.AddEdge(6,7)\n",
    "G1.AddEdge(6,8)\n",
    "G1.AddEdge(7,8)\n",
    "G1.AddEdge(5,9)\n",
    "G1.AddEdge(6,9)\n",
    "G1.AddEdge(7,9)\n",
    "G1.AddEdge(8,9)\n",
    "global_max_list = [0]\n",
    "invoke_max_clique_heuristic(G1, global_max_list)\n",
    "print(global_max_list[0])\n",
    "print(G1.GetNI(5).GetDeg())"
   ]
  },
  {
   "cell_type": "code",
   "execution_count": 6,
   "metadata": {},
   "outputs": [
    {
     "name": "stdout",
     "output_type": "stream",
     "text": [
      "('total_genes', 17074)\n",
      "('total_diseases', 20370)\n",
      "('id_index', 37444)\n",
      "('disease_graph.GetEdges()', 561119)\n",
      "('disease_graph.GetNodes()', 37444)\n",
      "12892536\n"
     ]
    },
    {
     "data": {
      "text/plain": [
       "20370"
      ]
     },
     "execution_count": 6,
     "metadata": {},
     "output_type": "execute_result"
    }
   ],
   "source": [
    "import pandas as pd\n",
    "import snap\n",
    "\n",
    "disease = pd.read_csv('all_gene_disease_associations.tsv', sep='\\t')\n",
    "raw_id_to_node_id_map = {}\n",
    "id_index = 0\n",
    "unique_gen_ids = disease['geneId'].unique()\n",
    "total_genes = 0\n",
    "total_diseases = 0\n",
    "for gene_id in unique_gen_ids:\n",
    "    raw_id_to_node_id_map[gene_id] = id_index\n",
    "    id_index = id_index + 1\n",
    "    total_genes = total_genes + 1\n",
    "unique_disease_ids = disease['diseaseId'].unique()\n",
    "for disease_id in unique_disease_ids:\n",
    "    raw_id_to_node_id_map[disease_id] = id_index\n",
    "    id_index = id_index + 1\n",
    "    total_diseases = total_diseases + 1\n",
    "print('total_genes', total_genes)\n",
    "print('total_diseases', total_diseases)\n",
    "print('id_index', id_index)\n",
    "disease_graph = snap.TUNGraph.New()\n",
    "# disease_graph = snap.TNGraph.New()\n",
    "values = disease.values\n",
    "N = values.shape[0]\n",
    "\n",
    "for i in xrange(id_index):\n",
    "    disease_graph.AddNode(i)\n",
    "for i in xrange(N):\n",
    "    row = values[i]\n",
    "    src_internal_id = raw_id_to_node_id_map[row[0]]\n",
    "    dst_internal_id = raw_id_to_node_id_map[row[2]]\n",
    "#     if i > 10:\n",
    "#         break\n",
    "    disease_graph.AddEdge(src_internal_id, dst_internal_id)\n",
    "print('disease_graph.GetEdges()',disease_graph.GetEdges())\n",
    "print('disease_graph.GetNodes()',disease_graph.GetNodes())\n",
    "\n",
    "derived_disease_graph = snap.TUNGraph.New()\n",
    "for i in xrange(total_genes, id_index):\n",
    "    derived_disease_graph.AddNode(i)\n",
    "for i in xrange(total_genes, id_index):\n",
    "    node_i = disease_graph.GetNI(i)\n",
    "    relevant_set = set()\n",
    "#     print(node_i, node_i.GetDeg())\n",
    "    for nbr_i in xrange(node_i.GetDeg()):\n",
    "        nbr_i_internal_id = node_i.GetNbrNId(nbr_i)\n",
    "#         print('nbr_i_internal_id',nbr_i_internal_id)\n",
    "        node_nbr = disease_graph.GetNI(nbr_i_internal_id)\n",
    "#         print('node_nbr',node_nbr)\n",
    "#             if node_nbr_i.IsNbrNId(j):\n",
    "        for j in xrange(node_nbr.GetDeg()):\n",
    "            node_nbr_i_j = node_nbr.GetNbrNId(j)\n",
    "#             nbr_id = node_nbr_i_j.GetId()\n",
    "            if i != node_nbr_i_j:\n",
    "                derived_disease_graph.AddEdge(i, node_nbr_i_j)\n",
    "print(derived_disease_graph.GetEdges())\n",
    "derived_disease_graph.GetNodes()    "
   ]
  },
  {
   "cell_type": "code",
   "execution_count": null,
   "metadata": {},
   "outputs": [
    {
     "name": "stdout",
     "output_type": "stream",
     "text": [
      "('2_global_max_list[0]', 796, ' ,size: ', 796)\n",
      "('2_global_max_list[0]', 817, ' ,size: ', 817)\n",
      "('2_global_max_list[0]', 826, ' ,size: ', 826)\n"
     ]
    }
   ],
   "source": [
    "derived_disease_graph\n",
    "global_max_list = [0]\n",
    "invoke_max_clique_heuristic(derived_disease_graph, global_max_list)\n",
    "print(global_max_list[0])"
   ]
  },
  {
   "cell_type": "code",
   "execution_count": null,
   "metadata": {},
   "outputs": [],
   "source": []
  }
 ],
 "metadata": {
  "kernelspec": {
   "display_name": "Python (cs224w)",
   "language": "python",
   "name": "cs224w"
  },
  "language_info": {
   "codemirror_mode": {
    "name": "ipython",
    "version": 2
   },
   "file_extension": ".py",
   "mimetype": "text/x-python",
   "name": "python",
   "nbconvert_exporter": "python",
   "pygments_lexer": "ipython2",
   "version": "2.7.15"
  }
 },
 "nbformat": 4,
 "nbformat_minor": 2
}
