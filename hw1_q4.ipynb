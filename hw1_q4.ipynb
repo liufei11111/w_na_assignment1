{
 "cells": [
  {
   "cell_type": "code",
   "execution_count": 28,
   "metadata": {},
   "outputs": [],
   "source": [
    "import pandas as pd\n",
    "disease = pd.read_csv('all_gene_disease_associations.tsv', sep='\\t')"
   ]
  },
  {
   "cell_type": "code",
   "execution_count": 29,
   "metadata": {},
   "outputs": [
    {
     "name": "stdout",
     "output_type": "stream",
     "text": [
      "('total_genes', 17074)\n",
      "('total_diseases', 20370)\n",
      "('id_index', 37444)\n"
     ]
    }
   ],
   "source": [
    "raw_id_to_node_id_map = {}\n",
    "id_index = 0\n",
    "unique_gen_ids = disease['geneId'].unique()\n",
    "total_genes = 0\n",
    "total_diseases = 0\n",
    "for gene_id in unique_gen_ids:\n",
    "    raw_id_to_node_id_map[gene_id] = id_index\n",
    "    id_index = id_index + 1\n",
    "    total_genes = total_genes + 1\n",
    "unique_disease_ids = disease['diseaseId'].unique()\n",
    "for disease_id in unique_disease_ids:\n",
    "    raw_id_to_node_id_map[disease_id] = id_index\n",
    "    id_index = id_index + 1\n",
    "    total_diseases = total_diseases + 1\n",
    "print('total_genes', total_genes)\n",
    "print('total_diseases', total_diseases)\n",
    "print('id_index', id_index)"
   ]
  },
  {
   "cell_type": "code",
   "execution_count": 30,
   "metadata": {},
   "outputs": [
    {
     "data": {
      "text/html": [
       "<div>\n",
       "<style scoped>\n",
       "    .dataframe tbody tr th:only-of-type {\n",
       "        vertical-align: middle;\n",
       "    }\n",
       "\n",
       "    .dataframe tbody tr th {\n",
       "        vertical-align: top;\n",
       "    }\n",
       "\n",
       "    .dataframe thead th {\n",
       "        text-align: right;\n",
       "    }\n",
       "</style>\n",
       "<table border=\"1\" class=\"dataframe\">\n",
       "  <thead>\n",
       "    <tr style=\"text-align: right;\">\n",
       "      <th></th>\n",
       "      <th>geneId</th>\n",
       "      <th>geneSymbol</th>\n",
       "      <th>diseaseId</th>\n",
       "      <th>diseaseName</th>\n",
       "      <th>score</th>\n",
       "      <th>NofPmids</th>\n",
       "      <th>NofSnps</th>\n",
       "      <th>source</th>\n",
       "    </tr>\n",
       "  </thead>\n",
       "  <tbody>\n",
       "    <tr>\n",
       "      <th>0</th>\n",
       "      <td>1</td>\n",
       "      <td>A1BG</td>\n",
       "      <td>C0001418</td>\n",
       "      <td>Adenocarcinoma</td>\n",
       "      <td>0.002733</td>\n",
       "      <td>1</td>\n",
       "      <td>0</td>\n",
       "      <td>LHGDN</td>\n",
       "    </tr>\n",
       "    <tr>\n",
       "      <th>1</th>\n",
       "      <td>1</td>\n",
       "      <td>A1BG</td>\n",
       "      <td>C0002736</td>\n",
       "      <td>Amyotrophic Lateral Sclerosis</td>\n",
       "      <td>0.000275</td>\n",
       "      <td>1</td>\n",
       "      <td>0</td>\n",
       "      <td>BEFREE</td>\n",
       "    </tr>\n",
       "    <tr>\n",
       "      <th>2</th>\n",
       "      <td>1</td>\n",
       "      <td>A1BG</td>\n",
       "      <td>C0013080</td>\n",
       "      <td>Down Syndrome</td>\n",
       "      <td>0.000275</td>\n",
       "      <td>1</td>\n",
       "      <td>0</td>\n",
       "      <td>BEFREE</td>\n",
       "    </tr>\n",
       "    <tr>\n",
       "      <th>3</th>\n",
       "      <td>1</td>\n",
       "      <td>A1BG</td>\n",
       "      <td>C0017636</td>\n",
       "      <td>Glioblastoma</td>\n",
       "      <td>0.000275</td>\n",
       "      <td>1</td>\n",
       "      <td>0</td>\n",
       "      <td>BEFREE</td>\n",
       "    </tr>\n",
       "    <tr>\n",
       "      <th>4</th>\n",
       "      <td>1</td>\n",
       "      <td>A1BG</td>\n",
       "      <td>C3854222</td>\n",
       "      <td>Human immunodeficiency virus (HIV) II infectio...</td>\n",
       "      <td>0.000275</td>\n",
       "      <td>1</td>\n",
       "      <td>0</td>\n",
       "      <td>BEFREE</td>\n",
       "    </tr>\n",
       "  </tbody>\n",
       "</table>\n",
       "</div>"
      ],
      "text/plain": [
       "   geneId geneSymbol diseaseId  \\\n",
       "0       1       A1BG  C0001418   \n",
       "1       1       A1BG  C0002736   \n",
       "2       1       A1BG  C0013080   \n",
       "3       1       A1BG  C0017636   \n",
       "4       1       A1BG  C3854222   \n",
       "\n",
       "                                         diseaseName     score  NofPmids  \\\n",
       "0                                     Adenocarcinoma  0.002733         1   \n",
       "1                      Amyotrophic Lateral Sclerosis  0.000275         1   \n",
       "2                                      Down Syndrome  0.000275         1   \n",
       "3                                       Glioblastoma  0.000275         1   \n",
       "4  Human immunodeficiency virus (HIV) II infectio...  0.000275         1   \n",
       "\n",
       "   NofSnps  source  \n",
       "0        0   LHGDN  \n",
       "1        0  BEFREE  \n",
       "2        0  BEFREE  \n",
       "3        0  BEFREE  \n",
       "4        0  BEFREE  "
      ]
     },
     "execution_count": 30,
     "metadata": {},
     "output_type": "execute_result"
    }
   ],
   "source": [
    "disease.head()"
   ]
  },
  {
   "cell_type": "code",
   "execution_count": 31,
   "metadata": {},
   "outputs": [
    {
     "name": "stdout",
     "output_type": "stream",
     "text": [
      "('disease_graph.GetEdges()', 561119)\n",
      "('disease_graph.GetNodes()', 37444)\n"
     ]
    }
   ],
   "source": [
    "import snap\n",
    "disease_graph = snap.TUNGraph.New()\n",
    "# disease_graph = snap.TNGraph.New()\n",
    "values = disease.values\n",
    "N = values.shape[0]\n",
    "\n",
    "for i in xrange(id_index):\n",
    "    disease_graph.AddNode(i)\n",
    "for i in xrange(N):\n",
    "    row = values[i]\n",
    "    src_internal_id = raw_id_to_node_id_map[row[0]]\n",
    "    dst_internal_id = raw_id_to_node_id_map[row[2]]\n",
    "#     if i > 10:\n",
    "#         break\n",
    "    disease_graph.AddEdge(src_internal_id, dst_internal_id)\n",
    "print('disease_graph.GetEdges()',disease_graph.GetEdges())\n",
    "print('disease_graph.GetNodes()',disease_graph.GetNodes())"
   ]
  },
  {
   "cell_type": "code",
   "execution_count": 34,
   "metadata": {},
   "outputs": [
    {
     "data": {
      "image/png": "[encoded data removed]",
      "text/plain": [
       "<Figure size 432x288 with 1 Axes>"
      ]
     },
     "metadata": {
      "needs_background": "light"
     },
     "output_type": "display_data"
    }
   ],
   "source": [
    "import matplotlib.pyplot as plt\n",
    "import numpy as np\n",
    "%matplotlib inline  \n",
    "gene_out_degree_to_count_map = {}\n",
    "for node_id in xrange(total_genes):\n",
    "    node = disease_graph.GetNI(node_id)\n",
    "    if node.GetOutDeg() > 0:\n",
    "        if node.GetOutDeg() in gene_out_degree_to_count_map:\n",
    "            gene_out_degree_to_count_map[node.GetOutDeg()] = gene_out_degree_to_count_map[node.GetOutDeg()] + 1\n",
    "        else:\n",
    "            gene_out_degree_to_count_map[node.GetOutDeg()] = 1\n",
    "keys = []\n",
    "values = []\n",
    "for key, value in gene_out_degree_to_count_map.items():\n",
    "    keys.append(key)\n",
    "    values.append(value)\n",
    "gene_x = np.array(keys)\n",
    "gene_y = np.array(values)\n",
    "#\n",
    "disease_out_degree_to_count_map = {}\n",
    "for node_id in xrange(total_genes, id_index):\n",
    "    node = disease_graph.GetNI(node_id)\n",
    "#     print(node.GetOutDeg())\n",
    "    if node.GetOutDeg() > 0:\n",
    "        if node.GetOutDeg() in disease_out_degree_to_count_map:\n",
    "            disease_out_degree_to_count_map[node.GetOutDeg()] = disease_out_degree_to_count_map[node.GetOutDeg()] + 1\n",
    "        else:\n",
    "            disease_out_degree_to_count_map[node.GetOutDeg()] = 1\n",
    "keys = []\n",
    "values = []\n",
    "for key, value in disease_out_degree_to_count_map.items():\n",
    "    keys.append(key)\n",
    "    values.append(value)\n",
    "disease_x = np.array(keys)\n",
    "disease_y = np.array(values)\n",
    "# print(keys)\n",
    "# print(values)\n",
    "plt.loglog(gene_x,gene_y, basex=10, basey=10, color = 'y', label = 'Gene Degree distribution')\n",
    "plt.loglog(disease_x,disease_y, basex=10, basey=10, color = 'r', label = 'Disease Degree distribution')\n",
    "plt.title('Loglog figure for degree distribution')\n",
    "plt.xlabel('log of out degree')\n",
    "plt.ylabel('log of count')\n",
    "plt.legend()\n",
    "plt.show()"
   ]
  },
  {
   "cell_type": "code",
   "execution_count": 45,
   "metadata": {},
   "outputs": [],
   "source": [
    "derived_disease_graph = snap.TUNGraph.New()\n",
    "for i in xrange(total_genes, id_index):\n",
    "    derived_disease_graph.AddNode(i)\n",
    "for i in xrange(total_genes, id_index):\n",
    "    node_i = disease_graph.GetNI(i)\n",
    "    relevant_set = set()\n",
    "#     print(node_i, node_i.GetDeg())\n",
    "    for nbr_i in xrange(node_i.GetDeg()):\n",
    "        nbr_i_internal_id = node_i.GetNbrNId(nbr_i)\n",
    "#         print('nbr_i_internal_id',nbr_i_internal_id)\n",
    "        node_nbr = disease_graph.GetNI(nbr_i_internal_id)\n",
    "#         print('node_nbr',node_nbr)\n",
    "#             if node_nbr_i.IsNbrNId(j):\n",
    "        for j in xrange(node_nbr.GetDeg()):\n",
    "            node_nbr_i_j = node_nbr.GetNbrNId(j)\n",
    "#             nbr_id = node_nbr_i_j.GetId()\n",
    "            if i != node_nbr_i_j:\n",
    "                derived_disease_graph.AddEdge(i, node_nbr_i_j)\n",
    "        "
   ]
  },
  {
   "cell_type": "code",
   "execution_count": 48,
   "metadata": {},
   "outputs": [
    {
     "name": "stdout",
     "output_type": "stream",
     "text": [
      "12892536\n"
     ]
    },
    {
     "data": {
      "text/plain": [
       "20370"
      ]
     },
     "execution_count": 48,
     "metadata": {},
     "output_type": "execute_result"
    }
   ],
   "source": [
    "print(derived_disease_graph.GetEdges())\n",
    "derived_disease_graph.GetNodes()"
   ]
  },
  {
   "cell_type": "code",
   "execution_count": 49,
   "metadata": {},
   "outputs": [
    {
     "name": "stdout",
     "output_type": "stream",
     "text": [
      "Clustering coefficient: 0.912721\n"
     ]
    }
   ],
   "source": [
    "GraphClustCoeff = snap.GetClustCf (derived_disease_graph, 1)\n",
    "print \"Clustering coefficient: %f\" % GraphClustCoeff"
   ]
  },
  {
   "cell_type": "code",
   "execution_count": 111,
   "metadata": {},
   "outputs": [],
   "source": [
    "import heapq\n",
    "\n",
    "class MyHeap(object):\n",
    "    def __init__(self, initial=None, key=lambda x:-x.GetDeg()):\n",
    "        self.key = key\n",
    "        if initial:\n",
    "            self._data = [(key(item), item) for item in initial]\n",
    "            heapq.heapify(self._data)\n",
    "        else:\n",
    "            self._data = []\n",
    "\n",
    "    def push(self, item):\n",
    "        heapq.heappush(self._data, (self.key(item), item))\n",
    "\n",
    "    def pop(self):\n",
    "        return heapq.heappop(self._data)[1]\n",
    "# global_max = 0\n",
    "global_max_list = [0]\n",
    "def invoke_max_clique_heuristic(Graph, global_max_list):\n",
    "    for NI in Graph.Nodes():\n",
    "        if NI.GetDeg() >= global_max_list[0]:\n",
    "            union = MyHeap()\n",
    "            for Id in NI.GetOutEdges():\n",
    "                node_for_id = Graph.GetNI(Id)\n",
    "                union.push(node_for_id)\n",
    "            max_clique_heuristic(Graph, union, 1, global_max_list)\n",
    "def max_clique_heuristic(Graph, union, size, global_max_list):\n",
    "#     print('1_union._data', len(union._data))\n",
    "    if len(union._data) == 0:\n",
    "        if size > global_max_list[0]:\n",
    "            \n",
    "            global_max_list[0] = size\n",
    "#             print('2_global_max_list[0]',global_max_list[0], ' ,size: ', size)\n",
    "        return\n",
    "    max_deg_vertex = union.pop()\n",
    "#     print('3_max_deg_vertex', max_deg_vertex.GetId())\n",
    "    bigger_nodes = set()\n",
    "    all_max_deg_vertex_nbrs = []\n",
    "    for nbr_i in xrange(max_deg_vertex.GetDeg()):\n",
    "        nbr_id = max_deg_vertex.GetNbrNId(nbr_i)\n",
    "        if nbr_id == max_deg_vertex.GetId():\n",
    "            continue\n",
    "        nbr_node_i = Graph.GetNI(nbr_id)\n",
    "#         all_max_deg_vertex_nbrs.append(nbr_node_i)\n",
    "#         print('4_all_max_deg_vertex_nbrs add: ', nbr_node_i.GetId())\n",
    "        if nbr_node_i.GetDeg() >= global_max_list[0]:\n",
    "            bigger_nodes.add(nbr_node_i.GetId())\n",
    "#             print('5_add_bigger_nodes',nbr_node_i.GetId())\n",
    "    bigger_nbrs = filter(lambda x: x[1].GetId() in bigger_nodes,union._data)\n",
    "    bigger_nbrs = map(lambda x: x[1],  bigger_nbrs)\n",
    "#     print('6_bigger_nbrs size', len(bigger_nbrs))\n",
    "    max_clique_heuristic(Graph,MyHeap(bigger_nbrs), size+1, global_max_list)\n"
   ]
  },
  {
   "cell_type": "code",
   "execution_count": 112,
   "metadata": {
    "scrolled": true
   },
   "outputs": [
    {
     "name": "stdout",
     "output_type": "stream",
     "text": [
      "5\n",
      "5\n"
     ]
    }
   ],
   "source": [
    "G1 = snap.TUNGraph.New()\n",
    "G1.AddNode(1)\n",
    "G1.AddNode(2)\n",
    "G1.AddNode(3)\n",
    "G1.AddNode(4)\n",
    "G1.AddNode(5)\n",
    "G1.AddNode(6)\n",
    "G1.AddNode(7)\n",
    "G1.AddNode(8)\n",
    "G1.AddNode(9)\n",
    "G1.AddEdge(1,2)\n",
    "G1.AddEdge(1,3)\n",
    "G1.AddEdge(2,3)\n",
    "G1.AddEdge(3,4)\n",
    "G1.AddEdge(4,5)\n",
    "G1.AddEdge(5,6)\n",
    "G1.AddEdge(5,7)\n",
    "G1.AddEdge(5,8)\n",
    "G1.AddEdge(6,7)\n",
    "G1.AddEdge(6,8)\n",
    "G1.AddEdge(7,8)\n",
    "G1.AddEdge(5,9)\n",
    "G1.AddEdge(6,9)\n",
    "G1.AddEdge(7,9)\n",
    "G1.AddEdge(8,9)\n",
    "global_max_list = [0]\n",
    "invoke_max_clique_heuristic(G1, global_max_list)\n",
    "print(global_max_list[0])\n",
    "print(G1.GetNI(5).GetDeg())"
   ]
  },
  {
   "cell_type": "code",
   "execution_count": null,
   "metadata": {},
   "outputs": [],
   "source": [
    "derived_disease_graph\n",
    "global_max_list = [0]\n",
    "invoke_max_clique_heuristic(derived_disease_graph, global_max_list)\n",
    "print(global_max_list[0])"
   ]
  },
  {
   "cell_type": "code",
   "execution_count": null,
   "metadata": {},
   "outputs": [],
   "source": []
  }
 ],
 "metadata": {
  "kernelspec": {
   "display_name": "Python (cs224w)",
   "language": "python",
   "name": "cs224w"
  },
  "language_info": {
   "codemirror_mode": {
    "name": "ipython",
    "version": 2
   },
   "file_extension": ".py",
   "mimetype": "text/x-python",
   "name": "python",
   "nbconvert_exporter": "python",
   "pygments_lexer": "ipython2",
   "version": "2.7.15"
  }
 },
 "nbformat": 4,
 "nbformat_minor": 2
}
